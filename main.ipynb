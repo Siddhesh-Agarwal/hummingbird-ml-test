{
  "cells": [
    {
      "cell_type": "markdown",
      "metadata": {
        "id": "view-in-github",
        "colab_type": "text"
      },
      "source": [
        "<a href=\"https://colab.research.google.com/github/Siddhesh-Agarwal/hummingbird-ml-test/blob/main/main.ipynb\" target=\"_parent\"><img src=\"https://colab.research.google.com/assets/colab-badge.svg\" alt=\"Open In Colab\"/></a>"
      ]
    },
    {
      "cell_type": "code",
      "source": [
        "!pip install wheel"
      ],
      "metadata": {
        "colab": {
          "base_uri": "https://localhost:8080/"
        },
        "id": "oXCRHTuhXUTf",
        "outputId": "59ead6e6-62a7-4d02-f6c3-4e33d7508648"
      },
      "execution_count": null,
      "outputs": [
        {
          "output_type": "stream",
          "name": "stdout",
          "text": [
            "Looking in indexes: https://pypi.org/simple, https://us-python.pkg.dev/colab-wheels/public/simple/\n",
            "Requirement already satisfied: wheel in /usr/local/lib/python3.7/dist-packages (0.37.1)\n"
          ]
        }
      ]
    },
    {
      "cell_type": "code",
      "source": [
        "!pip install hummingbird-ml[extra]"
      ],
      "metadata": {
        "colab": {
          "base_uri": "https://localhost:8080/"
        },
        "id": "HqXeA83xWQEL",
        "outputId": "1e01fa20-8be9-40d2-b141-ee6fd3d26c3c"
      },
      "execution_count": null,
      "outputs": [
        {
          "output_type": "stream",
          "name": "stdout",
          "text": [
            "Looking in indexes: https://pypi.org/simple, https://us-python.pkg.dev/colab-wheels/public/simple/\n",
            "Collecting hummingbird-ml[extra]\n",
            "  Using cached hummingbird_ml-0.4.4-py2.py3-none-any.whl (181 kB)\n",
            "Collecting onnxconverter-common>=1.6.0\n",
            "  Using cached onnxconverter_common-1.12.2-py2.py3-none-any.whl (83 kB)\n",
            "Requirement already satisfied: psutil in /usr/local/lib/python3.7/dist-packages (from hummingbird-ml[extra]) (5.4.8)\n",
            "Requirement already satisfied: torch>=1.4 in /usr/local/lib/python3.7/dist-packages (from hummingbird-ml[extra]) (1.12.1+cu113)\n",
            "Requirement already satisfied: dill in /usr/local/lib/python3.7/dist-packages (from hummingbird-ml[extra]) (0.3.5.1)\n",
            "Requirement already satisfied: scikit-learn>=0.21.3 in /usr/local/lib/python3.7/dist-packages (from hummingbird-ml[extra]) (1.0.2)\n",
            "Requirement already satisfied: numpy>=1.15 in /usr/local/lib/python3.7/dist-packages (from hummingbird-ml[extra]) (1.21.6)\n",
            "Requirement already satisfied: scipy in /usr/local/lib/python3.7/dist-packages (from hummingbird-ml[extra]) (1.7.3)\n",
            "Collecting prophet==1.0.1\n",
            "  Using cached prophet-1.0.1.tar.gz (65 kB)\n",
            "Requirement already satisfied: xgboost>=0.90 in /usr/local/lib/python3.7/dist-packages (from hummingbird-ml[extra]) (0.90)\n",
            "Requirement already satisfied: lightgbm>=2.2 in /usr/local/lib/python3.7/dist-packages (from hummingbird-ml[extra]) (2.2.3)\n",
            "Requirement already satisfied: Cython>=0.22 in /usr/local/lib/python3.7/dist-packages (from prophet==1.0.1->hummingbird-ml[extra]) (0.29.32)\n",
            "Collecting cmdstanpy==0.9.68\n",
            "  Using cached cmdstanpy-0.9.68-py3-none-any.whl (49 kB)\n",
            "Collecting pystan~=2.19.1.1\n",
            "  Using cached pystan-2.19.1.1-cp37-cp37m-manylinux1_x86_64.whl (67.3 MB)\n",
            "Requirement already satisfied: pandas>=1.0.4 in /usr/local/lib/python3.7/dist-packages (from prophet==1.0.1->hummingbird-ml[extra]) (1.3.5)\n",
            "Requirement already satisfied: matplotlib>=2.0.0 in /usr/local/lib/python3.7/dist-packages (from prophet==1.0.1->hummingbird-ml[extra]) (3.2.2)\n",
            "Requirement already satisfied: LunarCalendar>=0.0.9 in /usr/local/lib/python3.7/dist-packages (from prophet==1.0.1->hummingbird-ml[extra]) (0.0.9)\n",
            "Requirement already satisfied: convertdate>=2.1.2 in /usr/local/lib/python3.7/dist-packages (from prophet==1.0.1->hummingbird-ml[extra]) (2.4.0)\n",
            "Requirement already satisfied: holidays>=0.10.2 in /usr/local/lib/python3.7/dist-packages (from prophet==1.0.1->hummingbird-ml[extra]) (0.14.2)\n",
            "Requirement already satisfied: setuptools-git>=1.2 in /usr/local/lib/python3.7/dist-packages (from prophet==1.0.1->hummingbird-ml[extra]) (1.2)\n",
            "Requirement already satisfied: python-dateutil>=2.8.0 in /usr/local/lib/python3.7/dist-packages (from prophet==1.0.1->hummingbird-ml[extra]) (2.8.2)\n",
            "Requirement already satisfied: tqdm>=4.36.1 in /usr/local/lib/python3.7/dist-packages (from prophet==1.0.1->hummingbird-ml[extra]) (4.64.0)\n",
            "Requirement already satisfied: ujson in /usr/local/lib/python3.7/dist-packages (from cmdstanpy==0.9.68->prophet==1.0.1->hummingbird-ml[extra]) (5.4.0)\n",
            "Requirement already satisfied: pymeeus<=1,>=0.3.13 in /usr/local/lib/python3.7/dist-packages (from convertdate>=2.1.2->prophet==1.0.1->hummingbird-ml[extra]) (0.5.11)\n",
            "Requirement already satisfied: korean-lunar-calendar in /usr/local/lib/python3.7/dist-packages (from holidays>=0.10.2->prophet==1.0.1->hummingbird-ml[extra]) (0.2.1)\n",
            "Requirement already satisfied: hijri-converter in /usr/local/lib/python3.7/dist-packages (from holidays>=0.10.2->prophet==1.0.1->hummingbird-ml[extra]) (2.2.4)\n",
            "Requirement already satisfied: pytz in /usr/local/lib/python3.7/dist-packages (from LunarCalendar>=0.0.9->prophet==1.0.1->hummingbird-ml[extra]) (2022.2.1)\n",
            "Requirement already satisfied: ephem>=3.7.5.3 in /usr/local/lib/python3.7/dist-packages (from LunarCalendar>=0.0.9->prophet==1.0.1->hummingbird-ml[extra]) (4.1.3)\n",
            "Requirement already satisfied: pyparsing!=2.0.4,!=2.1.2,!=2.1.6,>=2.0.1 in /usr/local/lib/python3.7/dist-packages (from matplotlib>=2.0.0->prophet==1.0.1->hummingbird-ml[extra]) (3.0.9)\n",
            "Requirement already satisfied: cycler>=0.10 in /usr/local/lib/python3.7/dist-packages (from matplotlib>=2.0.0->prophet==1.0.1->hummingbird-ml[extra]) (0.11.0)\n",
            "Requirement already satisfied: kiwisolver>=1.0.1 in /usr/local/lib/python3.7/dist-packages (from matplotlib>=2.0.0->prophet==1.0.1->hummingbird-ml[extra]) (1.4.4)\n",
            "Requirement already satisfied: typing-extensions in /usr/local/lib/python3.7/dist-packages (from kiwisolver>=1.0.1->matplotlib>=2.0.0->prophet==1.0.1->hummingbird-ml[extra]) (4.1.1)\n",
            "Requirement already satisfied: protobuf in /usr/local/lib/python3.7/dist-packages (from onnxconverter-common>=1.6.0->hummingbird-ml[extra]) (3.17.3)\n",
            "Collecting onnx\n",
            "  Downloading onnx-1.12.0-cp37-cp37m-manylinux_2_17_x86_64.manylinux2014_x86_64.whl (13.1 MB)\n",
            "\u001b[K     |████████████████████████████████| 13.1 MB 6.5 MB/s \n",
            "\u001b[?25hRequirement already satisfied: six>=1.5 in /usr/local/lib/python3.7/dist-packages (from python-dateutil>=2.8.0->prophet==1.0.1->hummingbird-ml[extra]) (1.15.0)\n",
            "Requirement already satisfied: threadpoolctl>=2.0.0 in /usr/local/lib/python3.7/dist-packages (from scikit-learn>=0.21.3->hummingbird-ml[extra]) (3.1.0)\n",
            "Requirement already satisfied: joblib>=0.11 in /usr/local/lib/python3.7/dist-packages (from scikit-learn>=0.21.3->hummingbird-ml[extra]) (1.1.0)\n",
            "Building wheels for collected packages: prophet\n",
            "  Building wheel for prophet (setup.py) ... \u001b[?25lerror\n",
            "\u001b[31m  ERROR: Failed building wheel for prophet\u001b[0m\n",
            "\u001b[?25h  Running setup.py clean for prophet\n",
            "Failed to build prophet\n",
            "Installing collected packages: onnx, pystan, onnxconverter-common, cmdstanpy, prophet, hummingbird-ml\n",
            "  Attempting uninstall: pystan\n",
            "    Found existing installation: pystan 3.3.0\n",
            "    Uninstalling pystan-3.3.0:\n",
            "      Successfully uninstalled pystan-3.3.0\n",
            "  Attempting uninstall: cmdstanpy\n",
            "    Found existing installation: cmdstanpy 1.0.4\n",
            "    Uninstalling cmdstanpy-1.0.4:\n",
            "      Successfully uninstalled cmdstanpy-1.0.4\n",
            "  Attempting uninstall: prophet\n",
            "    Found existing installation: prophet 1.1\n",
            "    Uninstalling prophet-1.1:\n",
            "      Successfully uninstalled prophet-1.1\n",
            "    Running setup.py install for prophet ... \u001b[?25l\u001b[?25hdone\n",
            "\u001b[33m  DEPRECATION: prophet was installed using the legacy 'setup.py install' method, because a wheel could not be built for it. A possible replacement is to fix the wheel build issue reported above. You can find discussion regarding this at https://github.com/pypa/pip/issues/8368.\u001b[0m\n",
            "Successfully installed cmdstanpy-0.9.68 hummingbird-ml-0.4.4 onnx-1.12.0 onnxconverter-common-1.12.2 prophet-1.0.1 pystan-2.19.1.1\n"
          ]
        }
      ]
    },
    {
      "cell_type": "code",
      "execution_count": null,
      "metadata": {
        "colab": {
          "base_uri": "https://localhost:8080/"
        },
        "id": "ehzM7YRNWKDX",
        "outputId": "750dcb57-693e-436f-e551-8c149f1adc39"
      },
      "outputs": [
        {
          "output_type": "stream",
          "name": "stderr",
          "text": [
            "/usr/local/lib/python3.7/dist-packages/sklearn/experimental/enable_hist_gradient_boosting.py:17: UserWarning: Since version 1.0, it is not needed to import enable_hist_gradient_boosting anymore. HistGradientBoostingClassifier and HistGradientBoostingRegressor are now stable and can be normally imported from sklearn.ensemble.\n",
            "  \"Since version 1.0, \"\n"
          ]
        }
      ],
      "source": [
        "import numpy as np\n",
        "from sklearn.ensemble import RandomForestClassifier\n",
        "from hummingbird.ml import convert"
      ]
    },
    {
      "cell_type": "code",
      "execution_count": null,
      "metadata": {
        "id": "v97isXv4WKDd"
      },
      "outputs": [],
      "source": [
        "num_classes = 2\n",
        "X = np.random.rand(100000, 30)\n",
        "y = np.random.randint(num_classes, size=100000)"
      ]
    },
    {
      "cell_type": "code",
      "execution_count": null,
      "metadata": {
        "id": "BkOGnUeJWKDe"
      },
      "outputs": [],
      "source": [
        "model_1 = RandomForestClassifier(n_estimators=10, max_depth=10)"
      ]
    },
    {
      "cell_type": "code",
      "execution_count": null,
      "metadata": {
        "colab": {
          "base_uri": "https://localhost:8080/"
        },
        "id": "ut-qP2IGWKDg",
        "outputId": "85af42e4-0ebe-401d-eeb6-8de8b7309265"
      },
      "outputs": [
        {
          "output_type": "stream",
          "name": "stdout",
          "text": [
            "5.21 s ± 993 ms per loop (mean ± std. dev. of 7 runs, 1 loop each)\n"
          ]
        }
      ],
      "source": [
        "# time taken by 1st model\n",
        "%%timeit\n",
        "model_1.fit(X, y)"
      ]
    },
    {
      "cell_type": "code",
      "execution_count": null,
      "metadata": {
        "colab": {
          "base_uri": "https://localhost:8080/"
        },
        "id": "8r-q4UbOWKDh",
        "outputId": "7aeb5ea4-9ba6-4758-e3cc-db7baac7b9b3"
      },
      "outputs": [
        {
          "output_type": "stream",
          "name": "stderr",
          "text": [
            "/usr/local/lib/python3.7/dist-packages/sklearn/utils/deprecation.py:103: FutureWarning: Attribute `n_features_` was deprecated in version 1.0 and will be removed in 1.2. Use `n_features_in_` instead.\n",
            "  warnings.warn(msg, category=FutureWarning)\n"
          ]
        }
      ],
      "source": [
        "model_2 = convert(model_1, \"pytorch\")"
      ]
    },
    {
      "cell_type": "code",
      "execution_count": null,
      "metadata": {
        "colab": {
          "base_uri": "https://localhost:8080/"
        },
        "id": "fO5yloV-WKDi",
        "outputId": "b023c16b-ef79-4c71-b6af-5df6c1c12fd9"
      },
      "outputs": [
        {
          "output_type": "stream",
          "name": "stdout",
          "text": [
            "143 ms ± 5.45 ms per loop (mean ± std. dev. of 7 runs, 1 loop each)\n"
          ]
        }
      ],
      "source": [
        "# time taken by 2nd model\n",
        "%%timeit\n",
        "model_2.predict(X)"
      ]
    },
    {
      "cell_type": "code",
      "execution_count": null,
      "metadata": {
        "colab": {
          "base_uri": "https://localhost:8080/"
        },
        "id": "kEa_5TXnWKDj",
        "outputId": "a6c46bb4-f2bc-4f9a-94ab-c3588ab99f7d"
      },
      "outputs": [
        {
          "output_type": "execute_result",
          "data": {
            "text/plain": [
              "<hummingbird.ml.containers.sklearn.pytorch_containers.PyTorchSklearnContainerClassification at 0x7fe0ae0d6fd0>"
            ]
          },
          "metadata": {},
          "execution_count": 12
        }
      ],
      "source": [
        "model_2.to('cuda')"
      ]
    },
    {
      "cell_type": "code",
      "execution_count": 17,
      "metadata": {
        "colab": {
          "base_uri": "https://localhost:8080/"
        },
        "id": "F_4SpRKtWKDk",
        "outputId": "42c0f035-5332-4b5c-c09a-f80883d1e72d"
      },
      "outputs": [
        {
          "output_type": "stream",
          "name": "stdout",
          "text": [
            "CPU times: user 16.5 ms, sys: 0 ns, total: 16.5 ms\n",
            "Wall time: 20.7 ms\n"
          ]
        },
        {
          "output_type": "execute_result",
          "data": {
            "text/plain": [
              "array([1, 0, 0, ..., 0, 0, 0])"
            ]
          },
          "metadata": {},
          "execution_count": 17
        }
      ],
      "source": [
        "# time taken by 3rd model\n",
        "%%timeit\n",
        "model_2.predict(X)"
      ]
    },
    {
      "cell_type": "markdown",
      "source": [
        "## Observation\n",
        "- **model 1**: SciKit Learn model on CPU\n",
        "  - time: 5.21 s per loop\n",
        "- **model 2**: PyTorch model on CPU\n",
        "  - time: 143 ms per loop\n",
        "- **model 3**: PyTorch model on GPU\n",
        "  - time: 11.9ms per loop\n",
        "\n",
        "## Conclusion\n",
        "\n",
        "- model 2 is 36.43 times faster than model 1\n",
        "- model 3 is 12.02 times faster than model 2\n",
        "- model 3 is 437.8 times faster than model 1"
      ],
      "metadata": {
        "id": "9fSz-5wqYdLE"
      }
    },
    {
      "cell_type": "code",
      "source": [
        "# time taken by model 1 to time taken by model 2\n",
        "5210 / 143"
      ],
      "metadata": {
        "colab": {
          "base_uri": "https://localhost:8080/"
        },
        "id": "_ivOR123YZoH",
        "outputId": "f8de1b58-3f45-45af-a909-0d76093f71df"
      },
      "execution_count": null,
      "outputs": [
        {
          "output_type": "execute_result",
          "data": {
            "text/plain": [
              "36.43356643356643"
            ]
          },
          "metadata": {},
          "execution_count": 14
        }
      ]
    },
    {
      "cell_type": "code",
      "source": [
        "# time taken by model 2 to time taken by model 3\n",
        "143/11.9"
      ],
      "metadata": {
        "colab": {
          "base_uri": "https://localhost:8080/"
        },
        "id": "16Os7A0TZkD-",
        "outputId": "e13b125a-b0e8-43f9-f838-e3d61535a937"
      },
      "execution_count": null,
      "outputs": [
        {
          "output_type": "execute_result",
          "data": {
            "text/plain": [
              "12.016806722689076"
            ]
          },
          "metadata": {},
          "execution_count": 15
        }
      ]
    },
    {
      "cell_type": "code",
      "source": [
        "# time taken by model 1 to time taken by model 3\n",
        "5210/11.9"
      ],
      "metadata": {
        "colab": {
          "base_uri": "https://localhost:8080/"
        },
        "id": "nzYVK3q2ZtQW",
        "outputId": "8ee9a7f8-0650-4916-e341-8771f97fbb24"
      },
      "execution_count": null,
      "outputs": [
        {
          "output_type": "execute_result",
          "data": {
            "text/plain": [
              "437.81512605042013"
            ]
          },
          "metadata": {},
          "execution_count": 16
        }
      ]
    }
  ],
  "metadata": {
    "kernelspec": {
      "display_name": "Python 3.9.12",
      "language": "python",
      "name": "python3"
    },
    "language_info": {
      "codemirror_mode": {
        "name": "ipython",
        "version": 3
      },
      "file_extension": ".py",
      "mimetype": "text/x-python",
      "name": "python",
      "nbconvert_exporter": "python",
      "pygments_lexer": "ipython3",
      "version": "3.9.12"
    },
    "orig_nbformat": 4,
    "vscode": {
      "interpreter": {
        "hash": "0cce0c6ec985846c3a31030c79fbfd6673bd27e1511b5404d239a6f1f938ef69"
      }
    },
    "colab": {
      "name": "hummingbird-ml-test.ipynb",
      "provenance": [],
      "include_colab_link": true
    },
    "accelerator": "GPU",
    "gpuClass": "standard"
  },
  "nbformat": 4,
  "nbformat_minor": 0
}